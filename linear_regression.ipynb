{
 "cells": [
  {
   "cell_type": "code",
   "execution_count": 1,
   "metadata": {},
   "outputs": [],
   "source": [
    "from batchflow import Dataset\n",
    "import torch\n",
    "import numpy as np\n",
    "import matplotlib.pyplot as plt\n",
    "%matplotlib inline"
   ]
  },
  {
   "cell_type": "code",
   "execution_count": 207,
   "metadata": {},
   "outputs": [],
   "source": [
    "def data_generator(size, dim):\n",
    "    step = 5 / size\n",
    "    x = np.array([np.random.uniform(0, 5, size) for i in range(dim)]).T\n",
    "    a = np.random.randint(-3, 3, size=dim)\n",
    "    b = np.random.randint(-2, 2)\n",
    "    real = dict(w=a, b=b)\n",
    "    y = x @ a + b + np.random.normal(size=size, scale=0.5)\n",
    "    return x, y, real"
   ]
  },
  {
   "cell_type": "code",
   "execution_count": 208,
   "metadata": {},
   "outputs": [],
   "source": [
    "size, dim = 100, 2\n",
    "x, y, real = data_generator(size, dim)"
   ]
  },
  {
   "cell_type": "code",
   "execution_count": 209,
   "metadata": {},
   "outputs": [],
   "source": [
    "data = Dataset(index=size)\n",
    "data_loaded = data.pipeline().load(src=(x,y))"
   ]
  },
  {
   "cell_type": "code",
   "execution_count": 214,
   "metadata": {},
   "outputs": [],
   "source": [
    "w = torch.randn(dim, 1, requires_grad=True, \n",
    "                dtype=torch.double)\n",
    "b = torch.randn(1, requires_grad=True, dtype=torch.double)"
   ]
  },
  {
   "cell_type": "code",
   "execution_count": 215,
   "metadata": {},
   "outputs": [],
   "source": [
    "bs = 10\n",
    "lr = 0.001\n",
    "loss_list = []\n",
    "for batch in data_loaded.gen_batch(batch_size=bs, n_epochs=100, shuffle=True):\n",
    "    x = torch.from_numpy(batch.data[0]) # from numpy to torch\n",
    "    y = torch.from_numpy(batch.data[1]).view(-1, 1)\n",
    "    \n",
    "    y_pred = x.mm(w) + b # linear combination\n",
    "    loss = (y_pred - y).pow(2).sum() / bs # loss function\n",
    "    loss_list.append(loss) # store loss history\n",
    "    loss.backward() # compute gradients\n",
    "    with torch.no_grad():\n",
    "        w -= lr * w.grad  #GD\n",
    "        b -= lr * b.grad\n",
    "        w.grad.zero_()\n",
    "        b.grad.zero_() # dont accumulate gradients"
   ]
  },
  {
   "cell_type": "code",
   "execution_count": 216,
   "metadata": {},
   "outputs": [
    {
     "name": "stdout",
     "output_type": "stream",
     "text": [
      "Истинные значения {'w': array([ 1, -3]), 'b': 0}\n",
      "Полученные w : tensor([[ 1.0659],\n",
      "        [-2.8398]], dtype=torch.float64), b : -0.616048658830886\n"
     ]
    }
   ],
   "source": [
    "print('Истинные значения {}'.format(real))\n",
    "print('Полученные w : {}, b : {}'.format(w.data ,b.item()))"
   ]
  },
  {
   "cell_type": "code",
   "execution_count": 217,
   "metadata": {},
   "outputs": [
    {
     "data": {
      "text/plain": [
       "[<matplotlib.lines.Line2D at 0x96895fdfd0>]"
      ]
     },
     "execution_count": 217,
     "metadata": {},
     "output_type": "execute_result"
    },
    {
     "data": {
      "image/png": "[encoded data removed]",
      "text/plain": [
       "<Figure size 432x288 with 1 Axes>"
      ]
     },
     "metadata": {},
     "output_type": "display_data"
    }
   ],
   "source": [
    "plt.plot(loss_list)"
   ]
  }
 ],
 "metadata": {
  "kernelspec": {
   "display_name": "Python 3",
   "language": "python",
   "name": "python3"
  },
  "language_info": {
   "codemirror_mode": {
    "name": "ipython",
    "version": 3
   },
   "file_extension": ".py",
   "mimetype": "text/x-python",
   "name": "python",
   "nbconvert_exporter": "python",
   "pygments_lexer": "ipython3",
   "version": "3.6.4"
  }
 },
 "nbformat": 4,
 "nbformat_minor": 2
}
